{
 "cells": [
  {
   "cell_type": "markdown",
   "id": "7729150f",
   "metadata": {},
   "source": [
    "## Control with GamePad"
   ]
  },
  {
   "cell_type": "code",
   "execution_count": 1,
   "id": "ff66c340",
   "metadata": {},
   "outputs": [
    {
     "data": {
      "application/vnd.jupyter.widget-view+json": {
       "model_id": "81da44280b3b4f36a7b2b3791c6eed02",
       "version_major": 2,
       "version_minor": 0
      },
      "text/plain": [
       "Controller()"
      ]
     },
     "metadata": {},
     "output_type": "display_data"
    }
   ],
   "source": [
    "import ipywidgets.widgets as widgets\n",
    "\n",
    "controller = widgets.Controller(index=0)  # replace with index of your controller\n",
    "display(controller)"
   ]
  },
  {
   "cell_type": "code",
   "execution_count": 2,
   "id": "7ff152f1",
   "metadata": {},
   "outputs": [],
   "source": [
    "from jetracer.nvidia_racecar import NvidiaRacecar\n",
    "import traitlets\n",
    "\n",
    "car = NvidiaRacecar()"
   ]
  },
  {
   "cell_type": "code",
   "execution_count": 3,
   "id": "9ab91de0",
   "metadata": {},
   "outputs": [],
   "source": [
    "car.throttle_gain = 0.5\n",
    "car.steering_offset=-0.18\n",
    "car.steering = 0"
   ]
  },
  {
   "cell_type": "code",
   "execution_count": 5,
   "id": "e1c04273",
   "metadata": {},
   "outputs": [],
   "source": [
    "left_link = traitlets.dlink((controller.axes[0], 'value'), (car, 'steering'), transform=lambda x: -x)\n",
    "right_link = traitlets.dlink((controller.axes[3], 'value'), (car, 'throttle'), transform=lambda x: x)"
   ]
  },
  {
   "cell_type": "code",
   "execution_count": 6,
   "id": "26e20510",
   "metadata": {},
   "outputs": [],
   "source": [
    "# up_link = traitlets.dlink((controller.buttons[12], 'pressed'), (car, 'gainUp'))\n",
    "# down_link = traitlets.dlink((controller.buttons[13], 'pressed'), (car, 'gainDown'))\n",
    "\n",
    "# while True :\n",
    "#     if controller.buttons[12].pressed :\n",
    "#         car.throttle_gain = min(maxGain, car.throttle_gain + 0.1)\n",
    "#     elif controller.buttons[13].pressed :\n",
    "#         car.throttle_gain = max(0.0, car.throttle_gain - 0.1)\n",
    "#     elif controller.buttons[1].pressed :  # B\n",
    "#         break"
   ]
  },
  {
   "cell_type": "code",
   "execution_count": 7,
   "id": "1cefce57",
   "metadata": {},
   "outputs": [],
   "source": [
    "# 속도 조절 하고 싶을 때는 이걸 변경\n",
    "gainValue = 0.5\n",
    "car.throttle_gain = gainValue"
   ]
  },
  {
   "cell_type": "markdown",
   "id": "c97c1907",
   "metadata": {},
   "source": [
    "## Setting Camera"
   ]
  },
  {
   "cell_type": "code",
   "execution_count": 1,
   "id": "24c3b094",
   "metadata": {},
   "outputs": [],
   "source": [
    "from jetcam.csi_camera import CSICamera\n",
    "\n",
    "camera = CSICamera(width=224, height=224)"
   ]
  },
  {
   "cell_type": "code",
   "execution_count": 2,
   "id": "944fdc9a",
   "metadata": {},
   "outputs": [],
   "source": [
    "import ipywidgets\n",
    "from IPython.display import display\n",
    "from jetcam.utils import bgr8_to_jpeg"
   ]
  },
  {
   "cell_type": "code",
   "execution_count": 4,
   "id": "ef5b9e47",
   "metadata": {},
   "outputs": [
    {
     "name": "stdout",
     "output_type": "stream",
     "text": [
      "(224, 224, 3)\n"
     ]
    },
    {
     "data": {
      "application/vnd.jupyter.widget-view+json": {
       "model_id": "f753e7893c4b4abd82489eba2cde8723",
       "version_major": 2,
       "version_minor": 0
      },
      "text/plain": [
       "Image(value=b'\\xff\\xd8\\xff\\xe0\\x00\\x10JFIF\\x00\\x01\\x01\\x00\\x00\\x01\\x00\\x01\\x00\\x00\\xff\\xdb\\x00C\\x00\\x02\\x01\\x0…"
      ]
     },
     "metadata": {},
     "output_type": "display_data"
    }
   ],
   "source": [
    "image = camera.read()\n",
    "print(image.shape)\n",
    "\n",
    "# 사진 출력\n",
    "img_widget = ipywidgets.Image(format='jpeg')\n",
    "img_widget.value = bgr8_to_jpeg(image)\n",
    "\n",
    "display(img_widget)"
   ]
  },
  {
   "cell_type": "code",
   "execution_count": 12,
   "id": "23920fd3",
   "metadata": {},
   "outputs": [],
   "source": [
    "# 스트리밍 형식 + 콜백함수\n",
    "camera.runnig = True\n",
    "\n",
    "def update_image(change) :\n",
    "    img = change['new']\n",
    "    img_widget.value = bgr8_to_jpeg(image)"
   ]
  },
  {
   "cell_type": "code",
   "execution_count": 36,
   "id": "94e7da5b",
   "metadata": {},
   "outputs": [],
   "source": [
    "import traitlets\n",
    "\n",
    "camera.runnig = True\n",
    "\n",
    "img_widget = ipywidgets.Image(format='jpeg')\n",
    "camera_link = traitlets.dlink((camera, 'value'), (img_widget, 'value'), transform=bgr8_to_jpeg)"
   ]
  },
  {
   "cell_type": "code",
   "execution_count": 37,
   "id": "bb5c2b84",
   "metadata": {},
   "outputs": [
    {
     "data": {
      "application/vnd.jupyter.widget-view+json": {
       "model_id": "0efc3d91e9aa476bb8d262a2d31552ae",
       "version_major": 2,
       "version_minor": 0
      },
      "text/plain": [
       "Image(value=b'\\xff\\xd8\\xff\\xe0\\x00\\x10JFIF\\x00\\x01\\x01\\x00\\x00\\x01\\x00\\x01\\x00\\x00\\xff\\xdb\\x00C\\x00\\x02\\x01\\x0…"
      ]
     },
     "metadata": {},
     "output_type": "display_data"
    }
   ],
   "source": [
    "display(img_widget)\n",
    "for _ in range(500) :\n",
    "    img = camera.read()"
   ]
  },
  {
   "cell_type": "code",
   "execution_count": null,
   "id": "319c58d1",
   "metadata": {},
   "outputs": [],
   "source": []
  },
  {
   "cell_type": "code",
   "execution_count": null,
   "id": "1969473a",
   "metadata": {},
   "outputs": [],
   "source": []
  }
 ],
 "metadata": {
  "kernelspec": {
   "display_name": "Python 3",
   "language": "python",
   "name": "python3"
  },
  "language_info": {
   "codemirror_mode": {
    "name": "ipython",
    "version": 3
   },
   "file_extension": ".py",
   "mimetype": "text/x-python",
   "name": "python",
   "nbconvert_exporter": "python",
   "pygments_lexer": "ipython3",
   "version": "3.6.9"
  }
 },
 "nbformat": 4,
 "nbformat_minor": 5
}
