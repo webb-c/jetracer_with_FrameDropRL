{
 "cells": [
  {
   "cell_type": "code",
   "execution_count": 1,
   "id": "9f6f02f0",
   "metadata": {},
   "outputs": [
    {
     "data": {
      "application/vnd.jupyter.widget-view+json": {
       "model_id": "753f02796af54a0794834a1dc987edbd",
       "version_major": 2,
       "version_minor": 0
      },
      "text/plain": [
       "Controller()"
      ]
     },
     "metadata": {},
     "output_type": "display_data"
    }
   ],
   "source": [
    "import ipywidgets.widgets as widgets\n",
    "\n",
    "controller = widgets.Controller(index=0)  # replace with index of your controller\n",
    "display(controller)"
   ]
  },
  {
   "cell_type": "code",
   "execution_count": 2,
   "id": "df8183b4",
   "metadata": {},
   "outputs": [],
   "source": [
    "from jetracer.nvidia_racecar import NvidiaRacecar\n",
    "import traitlets\n",
    "\n",
    "car = NvidiaRacecar()"
   ]
  },
  {
   "cell_type": "code",
   "execution_count": 3,
   "id": "8a7f3e18",
   "metadata": {},
   "outputs": [],
   "source": [
    "maxGain = 0.8\n",
    "car.throttle_gain = 0.5\n",
    "car.steering_offset=-0.18\n",
    "car.steering = 0"
   ]
  },
  {
   "cell_type": "code",
   "execution_count": 4,
   "id": "1d1b6c11",
   "metadata": {},
   "outputs": [],
   "source": [
    "left_link = traitlets.dlink((controller.axes[0], 'value'), (car, 'steering'), transform=lambda x: -x)\n",
    "right_link = traitlets.dlink((controller.axes[3], 'value'), (car, 'throttle'), transform=lambda x: x)"
   ]
  },
  {
   "cell_type": "code",
   "execution_count": null,
   "id": "3ee17688",
   "metadata": {},
   "outputs": [],
   "source": [
    "up_link = traitlets.dlink((controller.buttons[12], 'pressed'), (car, 'throttle_gain'), transform=lambda x: -x)\n",
    "down_link = traitlets.dlink((controller.buttons[13], 'pressed'), (car, 'throttle_gain'), transform=lambda x: x)"
   ]
  },
  {
   "cell_type": "code",
   "execution_count": 10,
   "id": "2dd3aaed",
   "metadata": {},
   "outputs": [
    {
     "name": "stdout",
     "output_type": "stream",
     "text": [
      "False\n"
     ]
    }
   ],
   "source": [
    "# while True :\n",
    "#     if controller.buttons[12].pressed :\n",
    "#         car.throttle_gain = min(maxGain, car.throttle_gain + 0.1)\n",
    "#     elif controller.buttons[13].pressed :\n",
    "#         car.throttle_gain = max(0.0, car.throttle_gain - 0.1)\n",
    "#     elif controller.buttons[1].pressed :  # B\n",
    "#         break"
   ]
  },
  {
   "cell_type": "code",
   "execution_count": 9,
   "id": "65fe9270",
   "metadata": {},
   "outputs": [],
   "source": [
    "# 속도 조절 하고 싶을 때는 이걸 변경\n",
    "gainValue = 0.5\n",
    "car.throttle_gain = gainValue"
   ]
  },
  {
   "cell_type": "code",
   "execution_count": null,
   "id": "fd69d6b2",
   "metadata": {},
   "outputs": [],
   "source": []
  }
 ],
 "metadata": {
  "kernelspec": {
   "display_name": "Python 3",
   "language": "python",
   "name": "python3"
  },
  "language_info": {
   "codemirror_mode": {
    "name": "ipython",
    "version": 3
   },
   "file_extension": ".py",
   "mimetype": "text/x-python",
   "name": "python",
   "nbconvert_exporter": "python",
   "pygments_lexer": "ipython3",
   "version": "3.6.9"
  }
 },
 "nbformat": 4,
 "nbformat_minor": 5
}
